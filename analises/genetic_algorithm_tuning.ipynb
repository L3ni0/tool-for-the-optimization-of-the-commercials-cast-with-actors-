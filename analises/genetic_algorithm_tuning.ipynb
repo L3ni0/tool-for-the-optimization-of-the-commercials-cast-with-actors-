{
 "cells": [
  {
   "cell_type": "code",
   "execution_count": 1,
   "metadata": {},
   "outputs": [],
   "source": [
    "import numpy as np\n",
    "import matplotlib.pyplot as plt\n",
    "import seaborn as sns\n",
    "\n",
    "class Genetic_algorithm_knapsack:\n",
    "\n",
    "    def __init__(self,weights,values,max_weight,max_num_of_items=np.inf,min_num_of_items=1,num_of_population=10,p_crossing=0.8, p_mutation=0.1, treshold=0.5, starting_point=10) -> None:\n",
    "\n",
    "        assert len(weights) == len(values), 'weights and values number is different'\n",
    "        assert min(weights) <= max_weight, \"solution doesn't exist\"\n",
    "        assert max_num_of_items > min_num_of_items, 'max num of items is lower than min num of items'\n",
    "\n",
    "        self.weights = np.array(weights)\n",
    "        self.max_weight = max_weight\n",
    "        self.values = np.array(values)\n",
    "        self.liczba_bitow = len(weights)\n",
    "        self.num_of_population = num_of_population\n",
    "        self.p_crossing = p_crossing\n",
    "        self.p_mutation = p_mutation\n",
    "        self.max_num_of_items = max_num_of_items\n",
    "        self.min_num_of_items = min_num_of_items\n",
    "        self.treshold = treshold\n",
    "        self.starting_point = starting_point\n",
    "\n",
    "\n",
    "\n",
    "\n",
    "    def fitness_function(self,bits):\n",
    "\n",
    "        bits = np.array(bits)\n",
    "        weight_sum = np.sum(bits * self.weights)\n",
    "\n",
    "        if weight_sum > self.max_weight or np.sum(bits) > self.max_num_of_items or np.sum(bits) < self.min_num_of_items: # if value doesn't mach constraint give it as 0\n",
    "\n",
    "            return 0\n",
    "        else:\n",
    "\n",
    "            return np.sum(bits * self.values)\n",
    "        \n",
    "  \n",
    "    \n",
    "\n",
    "    def crossover(self,r1, r2):\n",
    "        d1, d2 = r1.copy(), r2.copy() # at the starts kids are parents copies\n",
    "\n",
    "        if np.random.rand() < self.p_crossing:\n",
    "\n",
    "            pt = np.random.randint(1, len(r1)-2) # shuffling crosssover\n",
    "           \n",
    "            d1 = r1[:pt] + r2[pt:]\n",
    "            d2 = r2[:pt] + r1[pt:]\n",
    "\n",
    "        return [d1, d2] \n",
    "\n",
    "    def selection(self,population, results):\n",
    "\n",
    "        choosed = np.random.randint(len(population)) # first selection is random\n",
    "\n",
    "        for i in np.random.randint(0, len(population), 2):\n",
    "            \n",
    "            if results[i] > results[choosed]: # comparing\n",
    "                choosed = i\n",
    "\n",
    "        return population[choosed]\n",
    "    \n",
    "    \n",
    "\n",
    "    def mutation(self,bits):\n",
    "\n",
    "        for i in range(len(bits)):\n",
    "\n",
    "            if np.random.rand() < self.p_mutation: # check if mutate\n",
    "                bits[i] = 1 - bits[i] # mutation\n",
    "        \n",
    "        return bits\n",
    "    \n",
    "    def repair_function(self,bits):\n",
    "\n",
    "        if np.sum(bits) < self.min_num_of_items:\n",
    "\n",
    "            choosed_bits = [np.random.randint(0, len(bits)) for _ in range(self.max_num_of_items)]\n",
    "\n",
    "            for i in choosed_bits:\n",
    "                bits[i] = 1\n",
    "\n",
    "        elif np.sum(bits) >  self.max_num_of_items:\n",
    "\n",
    "            while np.sum(bits) >  self.max_num_of_items:\n",
    "\n",
    "                choosed_bits = [i for i,b in enumerate(bits) if b == 1]\n",
    "                choosed_bit = np.random.choice(choosed_bits)\n",
    "                bits[choosed_bit] = 0\n",
    "\n",
    "        \n",
    "        while self.fitness_function(bits) == 0:\n",
    "\n",
    "            dic_choosed_prices = {i:self.weights[i] for i,b in enumerate(bits) if b == 1}\n",
    "            most_wage = max(dic_choosed_prices, key=dic_choosed_prices.get)\n",
    "\n",
    "            cheaper_bits = [i for i,b in enumerate(bits) if self.weights[most_wage] > self.weights[i]]\n",
    "\n",
    "            replacing_bit = np.random.choice(cheaper_bits)\n",
    "\n",
    "            bits[most_wage] = 0\n",
    "            bits[replacing_bit] =  1\n",
    "        \n",
    "        return bits\n",
    "                \n",
    "\n",
    "    def algorithm(self):\n",
    "\n",
    "        population = [np.random.randint(0, 2, self.liczba_bitow).tolist() for _ in range(self.num_of_population)] # population Initialization\n",
    "        best_bytes, best_results = 0, self.fitness_function(population[0])\n",
    "        gen = 0\n",
    "        best_gen = 0\n",
    "        BF_list = []\n",
    "\n",
    "        best_history= [0]\n",
    "\n",
    "        while True:\n",
    "\n",
    "            gen += 1\n",
    "\n",
    "            # reparir bits\n",
    "            population = [self.repair_function(c) for c in population]\n",
    "\n",
    "            # calculating values\n",
    "            results = [self.fitness_function(c) for c in population]\n",
    "\n",
    "\n",
    "            # finding best result\n",
    "            for i in range(self.num_of_population):\n",
    "                if results[i] > best_results:\n",
    "                    best_bytes, best_results = population[i], results[i]\n",
    "                    best_gen = gen\n",
    "                    # print(f\"w generacji {gen}, najlepsza populacja {populacja[i]} ma wynik {results[i]}\")\n",
    "            \n",
    "            \n",
    "            best_history.append(best_results)\n",
    "\n",
    "            BF_list.append(best_results)\n",
    "            del BF_list[0]\n",
    "            \n",
    "            # wybieranie rodzicow\n",
    "            parents = [self.selection(population, results) for _ in range(self.num_of_population)]\n",
    "        \n",
    "            # kolejna generacja\n",
    "            kids = list()\n",
    "            for i in range(0, self.num_of_population, 2):\n",
    "\n",
    "                \n",
    "                r1, r2 = parents[i], parents[i+1]\n",
    "\n",
    "                for kid in self.crossover(r1, r2):\n",
    "                    kid = self.mutation(kid)\n",
    "                    kids.append(kid) # zapisanie dziecka\n",
    "\n",
    "            population = kids # podmiana populacji\n",
    "            if gen <= self.starting_point:\n",
    "                continue\n",
    "\n",
    "            running_mean = ((1/self.starting_point)*np.sum([(BFi - best_results)**2 for BFi in BF_list]))\n",
    "\n",
    "            if running_mean<self.treshold:\n",
    "                break\n",
    "\n",
    "        return [best_bytes, best_results,best_history]\n",
    "    "
   ]
  },
  {
   "cell_type": "code",
   "execution_count": 4,
   "metadata": {},
   "outputs": [
    {
     "name": "stderr",
     "output_type": "stream",
     "text": [
      "C:\\Users\\Leniu\\AppData\\Local\\Temp\\ipykernel_25996\\2594598023.py:18: RuntimeWarning: divide by zero encountered in log2\n",
      "  plt.plot([i for i in range(len(data))],np.log2(average), label=f'n:{n},pk:{crossing},pop:{popuplation},ws:{treshold}')\n",
      "C:\\Users\\Leniu\\AppData\\Local\\Temp\\ipykernel_25996\\2594598023.py:18: RuntimeWarning: divide by zero encountered in log2\n",
      "  plt.plot([i for i in range(len(data))],np.log2(average), label=f'n:{n},pk:{crossing},pop:{popuplation},ws:{treshold}')\n",
      "C:\\Users\\Leniu\\AppData\\Local\\Temp\\ipykernel_25996\\2594598023.py:18: RuntimeWarning: divide by zero encountered in log2\n",
      "  plt.plot([i for i in range(len(data))],np.log2(average), label=f'n:{n},pk:{crossing},pop:{popuplation},ws:{treshold}')\n",
      "C:\\Users\\Leniu\\AppData\\Local\\Temp\\ipykernel_25996\\2594598023.py:18: RuntimeWarning: divide by zero encountered in log2\n",
      "  plt.plot([i for i in range(len(data))],np.log2(average), label=f'n:{n},pk:{crossing},pop:{popuplation},ws:{treshold}')\n",
      "C:\\Users\\Leniu\\AppData\\Local\\Temp\\ipykernel_25996\\2594598023.py:18: RuntimeWarning: divide by zero encountered in log2\n",
      "  plt.plot([i for i in range(len(data))],np.log2(average), label=f'n:{n},pk:{crossing},pop:{popuplation},ws:{treshold}')\n",
      "C:\\Users\\Leniu\\AppData\\Local\\Temp\\ipykernel_25996\\2594598023.py:18: RuntimeWarning: divide by zero encountered in log2\n",
      "  plt.plot([i for i in range(len(data))],np.log2(average), label=f'n:{n},pk:{crossing},pop:{popuplation},ws:{treshold}')\n"
     ]
    },
    {
     "ename": "KeyboardInterrupt",
     "evalue": "",
     "output_type": "error",
     "traceback": [
      "\u001b[1;31m---------------------------------------------------------------------------\u001b[0m",
      "\u001b[1;31mKeyboardInterrupt\u001b[0m                         Traceback (most recent call last)",
      "\u001b[1;32mc:\\Users\\Leniu\\Desktop\\nauka\\inżynierka\\analises\\genetic_algorithm_tuning.ipynb Cell 2\u001b[0m line \u001b[0;36m<cell line: 4>\u001b[1;34m()\u001b[0m\n\u001b[0;32m     <a href='vscode-notebook-cell:/c%3A/Users/Leniu/Desktop/nauka/in%C5%BCynierka/analises/genetic_algorithm_tuning.ipynb#W1sZmlsZQ%3D%3D?line=9'>10</a>\u001b[0m \u001b[39mfor\u001b[39;00m i \u001b[39min\u001b[39;00m \u001b[39mrange\u001b[39m(\u001b[39m4\u001b[39m):\n\u001b[0;32m     <a href='vscode-notebook-cell:/c%3A/Users/Leniu/Desktop/nauka/in%C5%BCynierka/analises/genetic_algorithm_tuning.ipynb#W1sZmlsZQ%3D%3D?line=10'>11</a>\u001b[0m     g1 \u001b[39m=\u001b[39m Genetic_algorithm_knapsack(values,weights,np\u001b[39m.\u001b[39mmedian(weights),num_of_population\u001b[39m=\u001b[39mpopuplation,starting_point\u001b[39m=\u001b[39mn,p_crossing\u001b[39m=\u001b[39mcrossing,treshold\u001b[39m=\u001b[39mtreshold)\n\u001b[1;32m---> <a href='vscode-notebook-cell:/c%3A/Users/Leniu/Desktop/nauka/in%C5%BCynierka/analises/genetic_algorithm_tuning.ipynb#W1sZmlsZQ%3D%3D?line=11'>12</a>\u001b[0m     naj_bity,naj_wynik,data \u001b[39m=\u001b[39m g1\u001b[39m.\u001b[39;49malgorithm()\n\u001b[0;32m     <a href='vscode-notebook-cell:/c%3A/Users/Leniu/Desktop/nauka/in%C5%BCynierka/analises/genetic_algorithm_tuning.ipynb#W1sZmlsZQ%3D%3D?line=12'>13</a>\u001b[0m     results\u001b[39m.\u001b[39mappend(data)\n\u001b[0;32m     <a href='vscode-notebook-cell:/c%3A/Users/Leniu/Desktop/nauka/in%C5%BCynierka/analises/genetic_algorithm_tuning.ipynb#W1sZmlsZQ%3D%3D?line=14'>15</a>\u001b[0m average \u001b[39m=\u001b[39m np\u001b[39m.\u001b[39mmean(np\u001b[39m.\u001b[39marray(results), axis\u001b[39m=\u001b[39m\u001b[39m0\u001b[39m)\n",
      "\u001b[1;32mc:\\Users\\Leniu\\Desktop\\nauka\\inżynierka\\analises\\genetic_algorithm_tuning.ipynb Cell 2\u001b[0m line \u001b[0;36mGenetic_algorithm_knapsack.algorithm\u001b[1;34m(self)\u001b[0m\n\u001b[0;32m    <a href='vscode-notebook-cell:/c%3A/Users/Leniu/Desktop/nauka/in%C5%BCynierka/analises/genetic_algorithm_tuning.ipynb#W1sZmlsZQ%3D%3D?line=121'>122</a>\u001b[0m gen \u001b[39m+\u001b[39m\u001b[39m=\u001b[39m \u001b[39m1\u001b[39m\n\u001b[0;32m    <a href='vscode-notebook-cell:/c%3A/Users/Leniu/Desktop/nauka/in%C5%BCynierka/analises/genetic_algorithm_tuning.ipynb#W1sZmlsZQ%3D%3D?line=123'>124</a>\u001b[0m \u001b[39m# reparir bits\u001b[39;00m\n\u001b[1;32m--> <a href='vscode-notebook-cell:/c%3A/Users/Leniu/Desktop/nauka/in%C5%BCynierka/analises/genetic_algorithm_tuning.ipynb#W1sZmlsZQ%3D%3D?line=124'>125</a>\u001b[0m population \u001b[39m=\u001b[39m [\u001b[39mself\u001b[39m\u001b[39m.\u001b[39mrepair_function(c) \u001b[39mfor\u001b[39;00m c \u001b[39min\u001b[39;00m population]\n\u001b[0;32m    <a href='vscode-notebook-cell:/c%3A/Users/Leniu/Desktop/nauka/in%C5%BCynierka/analises/genetic_algorithm_tuning.ipynb#W1sZmlsZQ%3D%3D?line=126'>127</a>\u001b[0m \u001b[39m# calculating values\u001b[39;00m\n\u001b[0;32m    <a href='vscode-notebook-cell:/c%3A/Users/Leniu/Desktop/nauka/in%C5%BCynierka/analises/genetic_algorithm_tuning.ipynb#W1sZmlsZQ%3D%3D?line=127'>128</a>\u001b[0m results \u001b[39m=\u001b[39m [\u001b[39mself\u001b[39m\u001b[39m.\u001b[39mfitness_function(c) \u001b[39mfor\u001b[39;00m c \u001b[39min\u001b[39;00m population]\n",
      "\u001b[1;32mc:\\Users\\Leniu\\Desktop\\nauka\\inżynierka\\analises\\genetic_algorithm_tuning.ipynb Cell 2\u001b[0m line \u001b[0;36m<listcomp>\u001b[1;34m(.0)\u001b[0m\n\u001b[0;32m    <a href='vscode-notebook-cell:/c%3A/Users/Leniu/Desktop/nauka/in%C5%BCynierka/analises/genetic_algorithm_tuning.ipynb#W1sZmlsZQ%3D%3D?line=121'>122</a>\u001b[0m gen \u001b[39m+\u001b[39m\u001b[39m=\u001b[39m \u001b[39m1\u001b[39m\n\u001b[0;32m    <a href='vscode-notebook-cell:/c%3A/Users/Leniu/Desktop/nauka/in%C5%BCynierka/analises/genetic_algorithm_tuning.ipynb#W1sZmlsZQ%3D%3D?line=123'>124</a>\u001b[0m \u001b[39m# reparir bits\u001b[39;00m\n\u001b[1;32m--> <a href='vscode-notebook-cell:/c%3A/Users/Leniu/Desktop/nauka/in%C5%BCynierka/analises/genetic_algorithm_tuning.ipynb#W1sZmlsZQ%3D%3D?line=124'>125</a>\u001b[0m population \u001b[39m=\u001b[39m [\u001b[39mself\u001b[39;49m\u001b[39m.\u001b[39;49mrepair_function(c) \u001b[39mfor\u001b[39;00m c \u001b[39min\u001b[39;00m population]\n\u001b[0;32m    <a href='vscode-notebook-cell:/c%3A/Users/Leniu/Desktop/nauka/in%C5%BCynierka/analises/genetic_algorithm_tuning.ipynb#W1sZmlsZQ%3D%3D?line=126'>127</a>\u001b[0m \u001b[39m# calculating values\u001b[39;00m\n\u001b[0;32m    <a href='vscode-notebook-cell:/c%3A/Users/Leniu/Desktop/nauka/in%C5%BCynierka/analises/genetic_algorithm_tuning.ipynb#W1sZmlsZQ%3D%3D?line=127'>128</a>\u001b[0m results \u001b[39m=\u001b[39m [\u001b[39mself\u001b[39m\u001b[39m.\u001b[39mfitness_function(c) \u001b[39mfor\u001b[39;00m c \u001b[39min\u001b[39;00m population]\n",
      "\u001b[1;32mc:\\Users\\Leniu\\Desktop\\nauka\\inżynierka\\analises\\genetic_algorithm_tuning.ipynb Cell 2\u001b[0m line \u001b[0;36mGenetic_algorithm_knapsack.repair_function\u001b[1;34m(self, bits)\u001b[0m\n\u001b[0;32m     <a href='vscode-notebook-cell:/c%3A/Users/Leniu/Desktop/nauka/in%C5%BCynierka/analises/genetic_algorithm_tuning.ipynb#W1sZmlsZQ%3D%3D?line=91'>92</a>\u001b[0m         bits[choosed_bit] \u001b[39m=\u001b[39m \u001b[39m0\u001b[39m\n\u001b[0;32m     <a href='vscode-notebook-cell:/c%3A/Users/Leniu/Desktop/nauka/in%C5%BCynierka/analises/genetic_algorithm_tuning.ipynb#W1sZmlsZQ%3D%3D?line=94'>95</a>\u001b[0m \u001b[39mwhile\u001b[39;00m \u001b[39mself\u001b[39m\u001b[39m.\u001b[39mfitness_function(bits) \u001b[39m==\u001b[39m \u001b[39m0\u001b[39m:\n\u001b[1;32m---> <a href='vscode-notebook-cell:/c%3A/Users/Leniu/Desktop/nauka/in%C5%BCynierka/analises/genetic_algorithm_tuning.ipynb#W1sZmlsZQ%3D%3D?line=96'>97</a>\u001b[0m     dic_choosed_prices \u001b[39m=\u001b[39m {i:\u001b[39mself\u001b[39m\u001b[39m.\u001b[39mweights[i] \u001b[39mfor\u001b[39;00m i,b \u001b[39min\u001b[39;00m \u001b[39menumerate\u001b[39m(bits) \u001b[39mif\u001b[39;00m b \u001b[39m==\u001b[39m \u001b[39m1\u001b[39m}\n\u001b[0;32m     <a href='vscode-notebook-cell:/c%3A/Users/Leniu/Desktop/nauka/in%C5%BCynierka/analises/genetic_algorithm_tuning.ipynb#W1sZmlsZQ%3D%3D?line=97'>98</a>\u001b[0m     most_wage \u001b[39m=\u001b[39m \u001b[39mmax\u001b[39m(dic_choosed_prices, key\u001b[39m=\u001b[39mdic_choosed_prices\u001b[39m.\u001b[39mget)\n\u001b[0;32m    <a href='vscode-notebook-cell:/c%3A/Users/Leniu/Desktop/nauka/in%C5%BCynierka/analises/genetic_algorithm_tuning.ipynb#W1sZmlsZQ%3D%3D?line=99'>100</a>\u001b[0m     cheaper_bits \u001b[39m=\u001b[39m [i \u001b[39mfor\u001b[39;00m i,b \u001b[39min\u001b[39;00m \u001b[39menumerate\u001b[39m(bits) \u001b[39mif\u001b[39;00m \u001b[39mself\u001b[39m\u001b[39m.\u001b[39mweights[most_wage] \u001b[39m>\u001b[39m \u001b[39mself\u001b[39m\u001b[39m.\u001b[39mweights[i]]\n",
      "\u001b[1;32mc:\\Users\\Leniu\\Desktop\\nauka\\inżynierka\\analises\\genetic_algorithm_tuning.ipynb Cell 2\u001b[0m line \u001b[0;36m<dictcomp>\u001b[1;34m(.0)\u001b[0m\n\u001b[0;32m     <a href='vscode-notebook-cell:/c%3A/Users/Leniu/Desktop/nauka/in%C5%BCynierka/analises/genetic_algorithm_tuning.ipynb#W1sZmlsZQ%3D%3D?line=91'>92</a>\u001b[0m         bits[choosed_bit] \u001b[39m=\u001b[39m \u001b[39m0\u001b[39m\n\u001b[0;32m     <a href='vscode-notebook-cell:/c%3A/Users/Leniu/Desktop/nauka/in%C5%BCynierka/analises/genetic_algorithm_tuning.ipynb#W1sZmlsZQ%3D%3D?line=94'>95</a>\u001b[0m \u001b[39mwhile\u001b[39;00m \u001b[39mself\u001b[39m\u001b[39m.\u001b[39mfitness_function(bits) \u001b[39m==\u001b[39m \u001b[39m0\u001b[39m:\n\u001b[1;32m---> <a href='vscode-notebook-cell:/c%3A/Users/Leniu/Desktop/nauka/in%C5%BCynierka/analises/genetic_algorithm_tuning.ipynb#W1sZmlsZQ%3D%3D?line=96'>97</a>\u001b[0m     dic_choosed_prices \u001b[39m=\u001b[39m {i:\u001b[39mself\u001b[39m\u001b[39m.\u001b[39mweights[i] \u001b[39mfor\u001b[39;00m i,b \u001b[39min\u001b[39;00m \u001b[39menumerate\u001b[39m(bits) \u001b[39mif\u001b[39;00m b \u001b[39m==\u001b[39;49m \u001b[39m1\u001b[39;49m}\n\u001b[0;32m     <a href='vscode-notebook-cell:/c%3A/Users/Leniu/Desktop/nauka/in%C5%BCynierka/analises/genetic_algorithm_tuning.ipynb#W1sZmlsZQ%3D%3D?line=97'>98</a>\u001b[0m     most_wage \u001b[39m=\u001b[39m \u001b[39mmax\u001b[39m(dic_choosed_prices, key\u001b[39m=\u001b[39mdic_choosed_prices\u001b[39m.\u001b[39mget)\n\u001b[0;32m    <a href='vscode-notebook-cell:/c%3A/Users/Leniu/Desktop/nauka/in%C5%BCynierka/analises/genetic_algorithm_tuning.ipynb#W1sZmlsZQ%3D%3D?line=99'>100</a>\u001b[0m     cheaper_bits \u001b[39m=\u001b[39m [i \u001b[39mfor\u001b[39;00m i,b \u001b[39min\u001b[39;00m \u001b[39menumerate\u001b[39m(bits) \u001b[39mif\u001b[39;00m \u001b[39mself\u001b[39m\u001b[39m.\u001b[39mweights[most_wage] \u001b[39m>\u001b[39m \u001b[39mself\u001b[39m\u001b[39m.\u001b[39mweights[i]]\n",
      "\u001b[1;31mKeyboardInterrupt\u001b[0m: "
     ]
    },
    {
     "data": {
      "image/png": "[encoded data removed]",
      "text/plain": [
       "<Figure size 432x288 with 1 Axes>"
      ]
     },
     "metadata": {
      "needs_background": "light"
     },
     "output_type": "display_data"
    }
   ],
   "source": [
    "\n",
    "\n",
    "values = [np.random.randint(0,1000) for _ in range(1000)]\n",
    "weights = [np.random.randint(0,1000) for _ in range(1000)]\n",
    "\n",
    "for n in [10,50,100]:\n",
    "    for crossing in [0.001, 0.01, 0.1]:\n",
    "        for popuplation in [10,50,100]:\n",
    "            for treshold in [0.001,0.01,0.1]:\n",
    "\n",
    "                results = []\n",
    "                for i in range(4):\n",
    "                    g1 = Genetic_algorithm_knapsack(values,weights,np.median(weights),num_of_population=popuplation,starting_point=n,p_crossing=crossing,treshold=treshold)\n",
    "                    naj_bity,naj_wynik,data = g1.algorithm()\n",
    "                    results.append(data)\n",
    "\n",
    "                average = np.mean(np.array(results), axis=0)\n",
    "                results = []\n",
    "                name = f'n:{n}, prawdopodobieństwo krzyżowania:{crossing}, liczba populacji:{popuplation}, warunek stopu:{treshold}'\n",
    "                plt.plot([i for i in range(len(data))],np.log2(average), label=f'n:{n},pk:{crossing},pop:{popuplation},ws:{treshold}')\n",
    "    \n",
    "    plt.title(name)\n",
    "    plt.ylabel('Sumaryczna średnia oglądalność [log2]')\n",
    "    plt.xlabel('numer generacji')\n",
    "    plt.legend(loc=\"upper left\")\n",
    "    plt.show()\n"
   ]
  },
  {
   "cell_type": "code",
   "execution_count": null,
   "metadata": {},
   "outputs": [
    {
     "data": {
      "text/plain": [
       "array([    0.  , 15444.75, 15444.75, 15459.5 , 15540.25, 15607.  ,\n",
       "       15792.75, 15792.75, 15792.75, 15792.75, 15792.75, 15792.75])"
      ]
     },
     "execution_count": 19,
     "metadata": {},
     "output_type": "execute_result"
    }
   ],
   "source": [
    "results = np.mean(average, axis=0)\n",
    "results"
   ]
  },
  {
   "cell_type": "code",
   "execution_count": 3,
   "metadata": {},
   "outputs": [
    {
     "data": {
      "image/png": "[encoded data removed]",
      "text/plain": [
       "<Figure size 432x288 with 1 Axes>"
      ]
     },
     "metadata": {
      "needs_background": "light"
     },
     "output_type": "display_data"
    },
    {
     "data": {
      "image/png": "[encoded data removed]",
      "text/plain": [
       "<Figure size 432x288 with 1 Axes>"
      ]
     },
     "metadata": {
      "needs_background": "light"
     },
     "output_type": "display_data"
    }
   ],
   "source": [
    "plt.plot([2,4,4,21],label='test')\n",
    "plt.legend(loc=\"upper left\")\n",
    "plt.show()\n",
    "plt.plot([4,0,0,0])\n",
    "plt.show()\n",
    "\n"
   ]
  },
  {
   "cell_type": "code",
   "execution_count": null,
   "metadata": {},
   "outputs": [],
   "source": []
  }
 ],
 "metadata": {
  "kernelspec": {
   "display_name": "Python 3",
   "language": "python",
   "name": "python3"
  },
  "language_info": {
   "codemirror_mode": {
    "name": "ipython",
    "version": 3
   },
   "file_extension": ".py",
   "mimetype": "text/x-python",
   "name": "python",
   "nbconvert_exporter": "python",
   "pygments_lexer": "ipython3",
   "version": "3.10.3"
  }
 },
 "nbformat": 4,
 "nbformat_minor": 2
}
