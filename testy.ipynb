{
 "cells": [
  {
   "cell_type": "code",
   "execution_count": 1,
   "metadata": {},
   "outputs": [],
   "source": [
    "from bs4 import BeautifulSoup\n",
    "import requests\n",
    "from http.cookiejar import MozillaCookieJar \n",
    "import re"
   ]
  },
  {
   "cell_type": "code",
   "execution_count": 2,
   "metadata": {},
   "outputs": [
    {
     "data": {
      "text/plain": [
       "<MozillaCookieJar[Cookie(version=0, name='accessAgeDisclaimerPH', value='1', port=None, port_specified=False, domain='.pornhub.com', domain_specified=True, domain_initial_dot=True, path='/', path_specified=False, secure=False, expires=1720431349, discard=False, comment=None, comment_url=None, rest={}, rfc2109=False), Cookie(version=0, name='bs', value='ahwaj7vck2n2lo7d294k75vo4d4szkcg', port=None, port_specified=False, domain='.pornhub.com', domain_specified=True, domain_initial_dot=True, path='/', path_specified=False, secure=True, expires=2007459919, discard=False, comment=None, comment_url=None, rest={}, rfc2109=False), Cookie(version=0, name='ss', value='498395242384798114', port=None, port_specified=False, domain='.pornhub.com', domain_specified=True, domain_initial_dot=True, path='/', path_specified=False, secure=True, expires=1720431345, discard=False, comment=None, comment_url=None, rest={}, rfc2109=False), Cookie(version=0, name='__l', value='64DB654B-42FE722901BB7AB3-2565DBAE', port=None, port_specified=False, domain='www.pornhub.com', domain_specified=False, domain_initial_dot=False, path='/pornstar', path_specified=False, secure=True, expires=1723656845, discard=False, comment=None, comment_url=None, rest={}, rfc2109=False)]>"
      ]
     },
     "execution_count": 2,
     "metadata": {},
     "output_type": "execute_result"
    }
   ],
   "source": [
    "s = requests.Session()\n",
    "jar = MozillaCookieJar('cookies.txt')\n",
    "jar.load()\n",
    "jar"
   ]
  },
  {
   "cell_type": "code",
   "execution_count": 3,
   "metadata": {},
   "outputs": [],
   "source": [
    "r = requests.get('https://www.pornhub.com/pornstar/videos_overview?pornstar=riley-reid', cookies=jar) "
   ]
  },
  {
   "cell_type": "code",
   "execution_count": 8,
   "metadata": {},
   "outputs": [],
   "source": [
    "def get_views(link):\n",
    "    global s, jar\n",
    "    print(link)\n",
    "    r = requests.get(link, cookies=jar)\n",
    "    print(r)\n",
    "    soup = BeautifulSoup(r.text, 'html.parser')\n",
    "    star_info = soup.find('div', class_='infoBox videoViews tooltipTrig') or soup.find('div', class_='tooltipTrig infoBox videoViews')\n",
    "\n",
    "    if star_info:\n",
    "        multiply = 1\n",
    "        print(star_info.title)\n",
    "        number = int(''.join(re.findall('\\d',star_info.text))) * multiply\n",
    "        return number\n",
    "    else:\n",
    "        return -1\n"
   ]
  },
  {
   "cell_type": "code",
   "execution_count": 9,
   "metadata": {},
   "outputs": [
    {
     "name": "stdout",
     "output_type": "stream",
     "text": [
      "https://www.pornhub.com/pornstar/videos_overview?pornstar=riley-reid\n",
      "<Response [200]>\n",
      "None\n"
     ]
    },
    {
     "data": {
      "text/plain": [
       "18"
      ]
     },
     "execution_count": 9,
     "metadata": {},
     "output_type": "execute_result"
    }
   ],
   "source": [
    "get_views(\"https://www.pornhub.com/pornstar/videos_overview?pornstar=riley-reid\")"
   ]
  },
  {
   "cell_type": "code",
   "execution_count": 45,
   "metadata": {},
   "outputs": [
    {
     "name": "stdout",
     "output_type": "stream",
     "text": [
      "<div class=\"infoPiece\"><span>Born:</span>\n",
      "\t\t\t\t\t\t\t1981-04-21</div>\n",
      "-----------\n",
      "<div class=\"infoPiece\"><span>Birthplace:</span>\n",
      "\t\t\t\t\t\t\tSyracuse, New York, United States of America</div>\n",
      "-----------\n",
      "<div class=\"infoPiece\"><span>Height:</span>\n",
      "\t\t\t\t\t\t\t5 ft 8 in (173 cm)</div>\n",
      "-----------\n",
      "<div class=\"infoPiece\"><span>Weight:</span>\n",
      "\t\t\t\t\t\t\t121 lbs (55 kg)</div>\n",
      "-----------\n"
     ]
    }
   ],
   "source": [
    "for i in result:\n",
    "    print(i)\n",
    "    print('-----------')"
   ]
  },
  {
   "cell_type": "code",
   "execution_count": 52,
   "metadata": {},
   "outputs": [
    {
     "name": "stdout",
     "output_type": "stream",
     "text": [
      "{'Born:': '1981-04-21', 'Birthplace:': 'Syracuse, New York, United States of America', 'Height:': '173 cm', 'Weight:': '55 kg'}\n"
     ]
    }
   ],
   "source": [
    "informations = {}\n",
    "for line in result:\n",
    "    html = str(line)\n",
    "    # Parsowanie obiektu bs4.tag\n",
    "    soup = BeautifulSoup(html, 'html.parser')\n",
    "\n",
    "    # Znajdź div z klasą \"infoPiece\"\n",
    "    div = soup.find('div', class_='infoPiece')\n",
    "\n",
    "    # Wydobywanie tekstu ze znacznika span i div\n",
    "    span_text = div.find('span').get_text()\n",
    "    div_text = div.get_text().replace(':','')\n",
    "\n",
    "    # Usuń tekst ze znacznika span od tekstu div\n",
    "    value = div_text.replace(span_text, '').strip()\n",
    "    if span_text in ('Height:','Weight:'):\n",
    "        value = value[value.find(\"(\")+1:value.find(\")\")]\n",
    "    else:\n",
    "        value = value.split('\\t')[-1]\n",
    "    # Stwórz słownik\n",
    "    informations[span_text] = value\n",
    "\n",
    "\n",
    "\n"
   ]
  },
  {
   "cell_type": "code",
   "execution_count": 23,
   "metadata": {},
   "outputs": [],
   "source": [
    "soup = BeautifulSoup(r.text, 'html.parser')\n"
   ]
  },
  {
   "cell_type": "code",
   "execution_count": 24,
   "metadata": {},
   "outputs": [
    {
     "data": {
      "text/plain": [
       "2333118"
      ]
     },
     "execution_count": 24,
     "metadata": {},
     "output_type": "execute_result"
    }
   ],
   "source": [
    "star_info = soup.find('div', class_='infoBox videoViews tooltipTrig')\n",
    "int(''.join(re.findall('\\d',star_info.text)))\n"
   ]
  },
  {
   "cell_type": "code",
   "execution_count": 29,
   "metadata": {},
   "outputs": [],
   "source": [
    "def get_views_count(link):\n",
    "    s = requests.Session()\n",
    "    jar = MozillaCookieJar('cookies.txt')\n",
    "    jar.load()\n",
    "    r = requests.get(link, cookies=jar) \n",
    "    soup = BeautifulSoup(r.text, 'html.parser')\n",
    "    star_info = soup.find('div', class_='infoBox videoViews tooltipTrig')\n",
    "    return int(''.join(re.findall('\\d',star_info.text)))"
   ]
  },
  {
   "cell_type": "code",
   "execution_count": 30,
   "metadata": {},
   "outputs": [
    {
     "ename": "AttributeError",
     "evalue": "'NoneType' object has no attribute 'text'",
     "output_type": "error",
     "traceback": [
      "\u001b[1;31m---------------------------------------------------------------------------\u001b[0m",
      "\u001b[1;31mAttributeError\u001b[0m                            Traceback (most recent call last)",
      "\u001b[1;32mc:\\Users\\Leniu\\Desktop\\nauka\\inżynierka\\testy.ipynb Cell 7\u001b[0m in \u001b[0;36m<cell line: 1>\u001b[1;34m()\u001b[0m\n\u001b[1;32m----> <a href='vscode-notebook-cell:/c%3A/Users/Leniu/Desktop/nauka/in%C5%BCynierka/testy.ipynb#X14sZmlsZQ%3D%3D?line=0'>1</a>\u001b[0m \u001b[39mprint\u001b[39m(get_views_count(\u001b[39m\"\u001b[39;49m\u001b[39mhttps://www.pornhub.com/pornstar/videos_overview?pornstar=aali-kali\u001b[39;49m\u001b[39m\"\u001b[39;49m))\n",
      "\u001b[1;32mc:\\Users\\Leniu\\Desktop\\nauka\\inżynierka\\testy.ipynb Cell 7\u001b[0m in \u001b[0;36mget_views_count\u001b[1;34m(link)\u001b[0m\n\u001b[0;32m      <a href='vscode-notebook-cell:/c%3A/Users/Leniu/Desktop/nauka/in%C5%BCynierka/testy.ipynb#X14sZmlsZQ%3D%3D?line=5'>6</a>\u001b[0m soup \u001b[39m=\u001b[39m BeautifulSoup(r\u001b[39m.\u001b[39mtext, \u001b[39m'\u001b[39m\u001b[39mhtml.parser\u001b[39m\u001b[39m'\u001b[39m)\n\u001b[0;32m      <a href='vscode-notebook-cell:/c%3A/Users/Leniu/Desktop/nauka/in%C5%BCynierka/testy.ipynb#X14sZmlsZQ%3D%3D?line=6'>7</a>\u001b[0m star_info \u001b[39m=\u001b[39m soup\u001b[39m.\u001b[39mfind(\u001b[39m'\u001b[39m\u001b[39mdiv\u001b[39m\u001b[39m'\u001b[39m, class_\u001b[39m=\u001b[39m\u001b[39m'\u001b[39m\u001b[39minfoBox videoViews tooltipTrig\u001b[39m\u001b[39m'\u001b[39m)\n\u001b[1;32m----> <a href='vscode-notebook-cell:/c%3A/Users/Leniu/Desktop/nauka/in%C5%BCynierka/testy.ipynb#X14sZmlsZQ%3D%3D?line=7'>8</a>\u001b[0m \u001b[39mreturn\u001b[39;00m \u001b[39mint\u001b[39m(\u001b[39m'\u001b[39m\u001b[39m'\u001b[39m\u001b[39m.\u001b[39mjoin(re\u001b[39m.\u001b[39mfindall(\u001b[39m'\u001b[39m\u001b[39m\\\u001b[39m\u001b[39md\u001b[39m\u001b[39m'\u001b[39m,star_info\u001b[39m.\u001b[39;49mtext)))\n",
      "\u001b[1;31mAttributeError\u001b[0m: 'NoneType' object has no attribute 'text'"
     ]
    }
   ],
   "source": [
    "print(get_views_count(\"https://www.pornhub.com/pornstar/videos_overview?pornstar=aali-kali\"))\n",
    "\n",
    "\n"
   ]
  },
  {
   "cell_type": "code",
   "execution_count": 27,
   "metadata": {},
   "outputs": [],
   "source": [
    "with open('stars.csv','r') as file:\n",
    "    links = []\n",
    "    for line in file:\n",
    "        links.append(line.split(',')[1])\n",
    "    links = links[1:]\n",
    "\n"
   ]
  },
  {
   "cell_type": "code",
   "execution_count": 28,
   "metadata": {},
   "outputs": [
    {
     "ename": "SyntaxError",
     "evalue": "invalid syntax (2576894402.py, line 1)",
     "output_type": "error",
     "traceback": [
      "\u001b[1;36m  Input \u001b[1;32mIn [28]\u001b[1;36m\u001b[0m\n\u001b[1;33m    for view in\u001b[0m\n\u001b[1;37m                ^\u001b[0m\n\u001b[1;31mSyntaxError\u001b[0m\u001b[1;31m:\u001b[0m invalid syntax\n"
     ]
    }
   ],
   "source": [
    "for view in \n",
    "    print(view)\n",
    "    "
   ]
  },
  {
   "cell_type": "code",
   "execution_count": 1,
   "metadata": {},
   "outputs": [],
   "source": [
    "from datetime import date"
   ]
  },
  {
   "cell_type": "code",
   "execution_count": 3,
   "metadata": {},
   "outputs": [
    {
     "data": {
      "text/plain": [
       "datetime.timedelta(days=-20740)"
      ]
     },
     "execution_count": 3,
     "metadata": {},
     "output_type": "execute_result"
    }
   ],
   "source": [
    "test = '1967-01-20'\n",
    "date.fromisoformat(test) - date.today()"
   ]
  },
  {
   "cell_type": "code",
   "execution_count": 7,
   "metadata": {},
   "outputs": [
    {
     "data": {
      "text/plain": [
       "{3: None, 1: None}"
      ]
     },
     "execution_count": 7,
     "metadata": {},
     "output_type": "execute_result"
    }
   ],
   "source": [
    "t = ((3,None),(1,None))\n",
    "\n",
    "dict(t)"
   ]
  },
  {
   "cell_type": "code",
   "execution_count": 1,
   "metadata": {},
   "outputs": [],
   "source": [
    "import pandas as pd"
   ]
  },
  {
   "cell_type": "code",
   "execution_count": 27,
   "metadata": {},
   "outputs": [],
   "source": [
    "df_info = pd.read_csv('data/information/general_information.csv',header=0,na_values=['None'])\n",
    "gender_options = list(df_info['Gender'].dropna().unique())\n",
    "ethnicity_options = list(df_info['Ethnicity'].dropna().unique())\n",
    "location_option = list(df_info['Birthplace'].dropna().unique())\n",
    "min_age = df_info['Age'].min()\n",
    "max_age = df_info['Age'].max()\n",
    "min_weight = df_info['Weight'].min()\n",
    "max_weight = df_info['Weight'].max()\n",
    "min_height = df_info['Height'].min()\n",
    "max_height = df_info['Height'].max()"
   ]
  },
  {
   "cell_type": "code",
   "execution_count": 28,
   "metadata": {},
   "outputs": [
    {
     "name": "stdout",
     "output_type": "stream",
     "text": [
      "['White', 'Latin', nan, 'Other', 'Asian', 'Black', 'Middle Eastern', 'White|Black', 'White|Asian', 'Black|Latin', 'Indian', 'Latin|Asian', 'White|Latin']\n",
      "['Female', 'Male', 'Couple', 'Trans Woman', 'Other', 'Non-Binary', 'Trans Man']\n",
      "[nan, 'United States of America', 'Russia', 'United Kingdom', 'Brazil', 'Czech Republic', 'Ukraine', 'Jamaica', 'Spain', 'Romania', 'Japan', 'Belgium', 'Hungary', 'Mexico', 'Canada', 'Peru', 'Scotland', 'Poland', 'China', 'Germany', 'France', 'Cuba', 'Portugal', 'England', 'Taiwan', 'Puerto Rico', 'Iran', 'Philippines', 'Switzerland', 'New Zealand', 'Colombia', 'Netherlands', 'Albania', 'Ireland', 'Italy', 'Panama', 'Australia', 'Slovakia', 'Serbia', 'Israel', 'Florida', 'Venezuela', 'Republic of', 'Novosibirsk', 'Norway', 'India', 'Greece', 'Wales', 'Indonesia', 'Austria', 'Bangladesh', 'Chile', 'South Africa', 'Kazakhstan', 'Singapore', 'Vietnam', 'Bahamas', 'London', 'Barbados', 'Sweden', 'Honduras', 'Lebanon', 'Thailand', 'Pakistan', 'Malaysia', 'Belarus', 'El Salvador', 'Finland', 'Croatia', 'Latvia', 'Morocco']\n",
      "22.0 83.0\n",
      "132.0 198.0\n",
      "33.0 33.0\n"
     ]
    }
   ],
   "source": [
    "print(ethnicity_options)\n",
    "print(gender_options)\n",
    "print(location_option)\n",
    "print(min_age,max_age)\n",
    "print(min_height,max_height)\n",
    "print(min_weight,min_weight)"
   ]
  },
  {
   "cell_type": "code",
   "execution_count": 1,
   "metadata": {},
   "outputs": [],
   "source": [
    "import pandas as pd\n",
    "from functions import read_all_data\n",
    "import os\n",
    "from datetime import date, timedelta\n",
    "import numpy as np"
   ]
  },
  {
   "cell_type": "code",
   "execution_count": 2,
   "metadata": {},
   "outputs": [],
   "source": [
    "df = read_all_data()\n"
   ]
  },
  {
   "cell_type": "code",
   "execution_count": 41,
   "metadata": {},
   "outputs": [],
   "source": [
    "def create_summaries(df) -> pd.DataFrame:\n",
    "\n",
    "    df_pivoted = df.pivot_table(index='star',columns='date',values='views').reset_index()\n",
    "    newest = df_pivoted.columns[-1]\n",
    "\n",
    "    df_pivoted = df_pivoted.dropna(subset=newest)\n",
    "\n",
    "    newest_date = date.fromisoformat(newest)\n",
    "    diff_7d = (newest_date - timedelta(days=7)).isoformat()\n",
    "    diff_14d = (newest_date - timedelta(days=14)).isoformat()\n",
    "\n",
    "\n",
    "    # creating cols and filling nans\n",
    "    if diff_7d not in df_pivoted.columns:\n",
    "        df_pivoted[diff_7d] = pd.NA\n",
    "\n",
    "    to_chechk_date = date.fromisoformat(diff_7d)\n",
    "    for _ in range(30):  \n",
    "\n",
    "        to_chechk_date = to_chechk_date - timedelta(days=1)\n",
    "        if not df_pivoted[diff_7d].isna().values.any():\n",
    "                break\n",
    "        \n",
    "        if to_chechk_date.isoformat() in df_pivoted.columns:\n",
    "            df_pivoted[diff_7d].fillna(df_pivoted[to_chechk_date.isoformat()], inplace=True)\n",
    "            \n",
    "\n",
    "\n",
    "    if diff_14d not in df_pivoted.columns:\n",
    "        df_pivoted[diff_14d] = pd.NA\n",
    "\n",
    "    to_chechk_date = date.fromisoformat(diff_14d)\n",
    "    for _ in range(40):\n",
    "\n",
    "        to_chechk_date = to_chechk_date - timedelta(days=1)\n",
    "        if not df_pivoted[diff_14d].isna().values.any():\n",
    "                break\n",
    "        \n",
    "        if to_chechk_date.isoformat() in df_pivoted.columns:\n",
    "            df_pivoted[diff_14d].fillna(df_pivoted[to_chechk_date.isoformat()], inplace=True)\n",
    "            \n",
    "    \n",
    "    # creating measurments\n",
    "    df_pivoted['7d_%'] = 100 * (df_pivoted[newest] - df_pivoted[diff_7d]) / df_pivoted[diff_7d]\n",
    "    df_pivoted['14d_%'] = 100 * (df_pivoted[newest] - df_pivoted[diff_14d]) / df_pivoted[diff_14d]\n",
    "    df_pivoted['Current_Viewership'] = df_pivoted[newest]\n",
    "    df_pivoted.drop(columns=df_pivoted.columns[1:-3], inplace=True)\n",
    "    \n",
    "    # adding general information\n",
    "    df_info = pd.read_csv('data/information/general_information.csv',na_values=['None'],header=0)\n",
    "    df_pivoted = df_pivoted.merge(df_info,on='star',how='inner')\n",
    "    \n",
    "    dtypes = {'star':'str',\n",
    "              '7d_%':'float64',\n",
    "              '14d_%': 'float64',\n",
    "              'Current_Viewership':'Int64',\n",
    "              'Age':'Int64',\n",
    "              'Birthplace':'string',\n",
    "              'Height':'Int64',\n",
    "              'Weight':'Int64',\n",
    "              'Gender':'string',\n",
    "              'Ethnicity':'string',\n",
    "              'Cost($)':'float64'     \n",
    "    }\n",
    "\n",
    "\n",
    "    return df_pivoted.astype(dtypes)\n"
   ]
  },
  {
   "cell_type": "code",
   "execution_count": 42,
   "metadata": {},
   "outputs": [
    {
     "data": {
      "text/html": [
       "<div>\n",
       "<style scoped>\n",
       "    .dataframe tbody tr th:only-of-type {\n",
       "        vertical-align: middle;\n",
       "    }\n",
       "\n",
       "    .dataframe tbody tr th {\n",
       "        vertical-align: top;\n",
       "    }\n",
       "\n",
       "    .dataframe thead th {\n",
       "        text-align: right;\n",
       "    }\n",
       "</style>\n",
       "<table border=\"1\" class=\"dataframe\">\n",
       "  <thead>\n",
       "    <tr style=\"text-align: right;\">\n",
       "      <th></th>\n",
       "      <th>star</th>\n",
       "      <th>7d_%</th>\n",
       "      <th>14d_%</th>\n",
       "      <th>Current_Viewership</th>\n",
       "      <th>Age</th>\n",
       "      <th>Birthplace</th>\n",
       "      <th>Height</th>\n",
       "      <th>Weight</th>\n",
       "      <th>Gender</th>\n",
       "      <th>Ethnicity</th>\n",
       "      <th>Cost($)</th>\n",
       "    </tr>\n",
       "  </thead>\n",
       "  <tbody>\n",
       "    <tr>\n",
       "      <th>0</th>\n",
       "      <td>AJ Applegate</td>\n",
       "      <td>0.416667</td>\n",
       "      <td>0.416667</td>\n",
       "      <td>241</td>\n",
       "      <td>&lt;NA&gt;</td>\n",
       "      <td>&lt;NA&gt;</td>\n",
       "      <td>157</td>\n",
       "      <td>54</td>\n",
       "      <td>Female</td>\n",
       "      <td>White</td>\n",
       "      <td>48.2</td>\n",
       "    </tr>\n",
       "    <tr>\n",
       "      <th>1</th>\n",
       "      <td>AJ Estrada</td>\n",
       "      <td>0.343845</td>\n",
       "      <td>0.488104</td>\n",
       "      <td>923346</td>\n",
       "      <td>26</td>\n",
       "      <td>United States of America</td>\n",
       "      <td>170</td>\n",
       "      <td>55</td>\n",
       "      <td>&lt;NA&gt;</td>\n",
       "      <td>&lt;NA&gt;</td>\n",
       "      <td>184649.4</td>\n",
       "    </tr>\n",
       "    <tr>\n",
       "      <th>2</th>\n",
       "      <td>AKGINGERSNAPS</td>\n",
       "      <td>0.000000</td>\n",
       "      <td>0.000000</td>\n",
       "      <td>205</td>\n",
       "      <td>&lt;NA&gt;</td>\n",
       "      <td>&lt;NA&gt;</td>\n",
       "      <td>170</td>\n",
       "      <td>57</td>\n",
       "      <td>Female</td>\n",
       "      <td>White</td>\n",
       "      <td>41.0</td>\n",
       "    </tr>\n",
       "    <tr>\n",
       "      <th>3</th>\n",
       "      <td>Aali Kali</td>\n",
       "      <td>0.000000</td>\n",
       "      <td>0.854701</td>\n",
       "      <td>118</td>\n",
       "      <td>&lt;NA&gt;</td>\n",
       "      <td>&lt;NA&gt;</td>\n",
       "      <td>168</td>\n",
       "      <td>54</td>\n",
       "      <td>Female</td>\n",
       "      <td>White</td>\n",
       "      <td>23.6</td>\n",
       "    </tr>\n",
       "    <tr>\n",
       "      <th>4</th>\n",
       "      <td>Aaliyah Hadid</td>\n",
       "      <td>0.383142</td>\n",
       "      <td>0.769231</td>\n",
       "      <td>262</td>\n",
       "      <td>&lt;NA&gt;</td>\n",
       "      <td>&lt;NA&gt;</td>\n",
       "      <td>168</td>\n",
       "      <td>51</td>\n",
       "      <td>Female</td>\n",
       "      <td>Latin</td>\n",
       "      <td>52.2</td>\n",
       "    </tr>\n",
       "    <tr>\n",
       "      <th>...</th>\n",
       "      <td>...</td>\n",
       "      <td>...</td>\n",
       "      <td>...</td>\n",
       "      <td>...</td>\n",
       "      <td>...</td>\n",
       "      <td>...</td>\n",
       "      <td>...</td>\n",
       "      <td>...</td>\n",
       "      <td>...</td>\n",
       "      <td>...</td>\n",
       "      <td>...</td>\n",
       "    </tr>\n",
       "    <tr>\n",
       "      <th>4456</th>\n",
       "      <td>vida valentine</td>\n",
       "      <td>0.351583</td>\n",
       "      <td>0.525022</td>\n",
       "      <td>1817033</td>\n",
       "      <td>42</td>\n",
       "      <td>United States of America</td>\n",
       "      <td>163</td>\n",
       "      <td>67</td>\n",
       "      <td>&lt;NA&gt;</td>\n",
       "      <td>&lt;NA&gt;</td>\n",
       "      <td>363372.4</td>\n",
       "    </tr>\n",
       "    <tr>\n",
       "      <th>4457</th>\n",
       "      <td>winnie</td>\n",
       "      <td>0.167395</td>\n",
       "      <td>0.354003</td>\n",
       "      <td>3951762</td>\n",
       "      <td>53</td>\n",
       "      <td>Hungary</td>\n",
       "      <td>163</td>\n",
       "      <td>52</td>\n",
       "      <td>&lt;NA&gt;</td>\n",
       "      <td>&lt;NA&gt;</td>\n",
       "      <td>790276.8</td>\n",
       "    </tr>\n",
       "    <tr>\n",
       "      <th>4458</th>\n",
       "      <td>xana star</td>\n",
       "      <td>0.126441</td>\n",
       "      <td>0.214027</td>\n",
       "      <td>225687</td>\n",
       "      <td>46</td>\n",
       "      <td>United States of America</td>\n",
       "      <td>165</td>\n",
       "      <td>58</td>\n",
       "      <td>&lt;NA&gt;</td>\n",
       "      <td>&lt;NA&gt;</td>\n",
       "      <td>45136.0</td>\n",
       "    </tr>\n",
       "    <tr>\n",
       "      <th>4459</th>\n",
       "      <td>yumi</td>\n",
       "      <td>0.332399</td>\n",
       "      <td>0.530249</td>\n",
       "      <td>14272955</td>\n",
       "      <td>42</td>\n",
       "      <td>Japan</td>\n",
       "      <td>157</td>\n",
       "      <td>45</td>\n",
       "      <td>&lt;NA&gt;</td>\n",
       "      <td>&lt;NA&gt;</td>\n",
       "      <td>2854244.2</td>\n",
       "    </tr>\n",
       "    <tr>\n",
       "      <th>4460</th>\n",
       "      <td>zana</td>\n",
       "      <td>0.041997</td>\n",
       "      <td>0.061883</td>\n",
       "      <td>533592</td>\n",
       "      <td>49</td>\n",
       "      <td>United States of America</td>\n",
       "      <td>170</td>\n",
       "      <td>54</td>\n",
       "      <td>&lt;NA&gt;</td>\n",
       "      <td>&lt;NA&gt;</td>\n",
       "      <td>106716.2</td>\n",
       "    </tr>\n",
       "  </tbody>\n",
       "</table>\n",
       "<p>4461 rows × 11 columns</p>\n",
       "</div>"
      ],
      "text/plain": [
       "                star      7d_%     14d_%  Current_Viewership   Age  \\\n",
       "0       AJ Applegate  0.416667  0.416667                 241  <NA>   \n",
       "1         AJ Estrada  0.343845  0.488104              923346    26   \n",
       "2      AKGINGERSNAPS  0.000000  0.000000                 205  <NA>   \n",
       "3          Aali Kali  0.000000  0.854701                 118  <NA>   \n",
       "4      Aaliyah Hadid  0.383142  0.769231                 262  <NA>   \n",
       "...              ...       ...       ...                 ...   ...   \n",
       "4456  vida valentine  0.351583  0.525022             1817033    42   \n",
       "4457          winnie  0.167395  0.354003             3951762    53   \n",
       "4458       xana star  0.126441  0.214027              225687    46   \n",
       "4459            yumi  0.332399  0.530249            14272955    42   \n",
       "4460            zana  0.041997  0.061883              533592    49   \n",
       "\n",
       "                    Birthplace  Height  Weight  Gender Ethnicity    Cost($)  \n",
       "0                         <NA>     157      54  Female     White       48.2  \n",
       "1     United States of America     170      55    <NA>      <NA>   184649.4  \n",
       "2                         <NA>     170      57  Female     White       41.0  \n",
       "3                         <NA>     168      54  Female     White       23.6  \n",
       "4                         <NA>     168      51  Female     Latin       52.2  \n",
       "...                        ...     ...     ...     ...       ...        ...  \n",
       "4456  United States of America     163      67    <NA>      <NA>   363372.4  \n",
       "4457                   Hungary     163      52    <NA>      <NA>   790276.8  \n",
       "4458  United States of America     165      58    <NA>      <NA>    45136.0  \n",
       "4459                     Japan     157      45    <NA>      <NA>  2854244.2  \n",
       "4460  United States of America     170      54    <NA>      <NA>   106716.2  \n",
       "\n",
       "[4461 rows x 11 columns]"
      ]
     },
     "execution_count": 42,
     "metadata": {},
     "output_type": "execute_result"
    }
   ],
   "source": [
    "create_summaries(df)"
   ]
  },
  {
   "cell_type": "code",
   "execution_count": 15,
   "metadata": {},
   "outputs": [
    {
     "data": {
      "text/plain": [
       "star           object\n",
       "Age           float64\n",
       "Birthplace     object\n",
       "Height        float64\n",
       "Weight        float64\n",
       "Gender         object\n",
       "Ethnicity      object\n",
       "Cost($)       float64\n",
       "dtype: object"
      ]
     },
     "execution_count": 15,
     "metadata": {},
     "output_type": "execute_result"
    }
   ],
   "source": [
    "df_info.dtypes\n"
   ]
  },
  {
   "cell_type": "code",
   "execution_count": 35,
   "metadata": {},
   "outputs": [
    {
     "data": {
      "text/plain": [
       "'2023-10-28'"
      ]
     },
     "execution_count": 35,
     "metadata": {},
     "output_type": "execute_result"
    }
   ],
   "source": [
    "(test - timedelta(days=7)).isoformat()"
   ]
  },
  {
   "cell_type": "code",
   "execution_count": 62,
   "metadata": {},
   "outputs": [],
   "source": [
    "test = create_summaries(df).iloc[:5]\n",
    "lista = [0,1,1,0,1]"
   ]
  },
  {
   "cell_type": "code",
   "execution_count": 63,
   "metadata": {},
   "outputs": [
    {
     "data": {
      "text/html": [
       "<div>\n",
       "<style scoped>\n",
       "    .dataframe tbody tr th:only-of-type {\n",
       "        vertical-align: middle;\n",
       "    }\n",
       "\n",
       "    .dataframe tbody tr th {\n",
       "        vertical-align: top;\n",
       "    }\n",
       "\n",
       "    .dataframe thead th {\n",
       "        text-align: right;\n",
       "    }\n",
       "</style>\n",
       "<table border=\"1\" class=\"dataframe\">\n",
       "  <thead>\n",
       "    <tr style=\"text-align: right;\">\n",
       "      <th></th>\n",
       "      <th>star</th>\n",
       "      <th>7d_%</th>\n",
       "      <th>14d_%</th>\n",
       "      <th>Current_Viewership</th>\n",
       "      <th>Age</th>\n",
       "      <th>Birthplace</th>\n",
       "      <th>Height</th>\n",
       "      <th>Weight</th>\n",
       "      <th>Gender</th>\n",
       "      <th>Ethnicity</th>\n",
       "      <th>Cost($)</th>\n",
       "      <th>results</th>\n",
       "    </tr>\n",
       "  </thead>\n",
       "  <tbody>\n",
       "    <tr>\n",
       "      <th>0</th>\n",
       "      <td>AJ Applegate</td>\n",
       "      <td>0.416667</td>\n",
       "      <td>0.416667</td>\n",
       "      <td>241</td>\n",
       "      <td>&lt;NA&gt;</td>\n",
       "      <td>&lt;NA&gt;</td>\n",
       "      <td>157</td>\n",
       "      <td>54</td>\n",
       "      <td>Female</td>\n",
       "      <td>White</td>\n",
       "      <td>48.2</td>\n",
       "      <td>0</td>\n",
       "    </tr>\n",
       "    <tr>\n",
       "      <th>1</th>\n",
       "      <td>AJ Estrada</td>\n",
       "      <td>0.343845</td>\n",
       "      <td>0.488104</td>\n",
       "      <td>923346</td>\n",
       "      <td>26</td>\n",
       "      <td>United States of America</td>\n",
       "      <td>170</td>\n",
       "      <td>55</td>\n",
       "      <td>&lt;NA&gt;</td>\n",
       "      <td>&lt;NA&gt;</td>\n",
       "      <td>184649.4</td>\n",
       "      <td>1</td>\n",
       "    </tr>\n",
       "    <tr>\n",
       "      <th>2</th>\n",
       "      <td>AKGINGERSNAPS</td>\n",
       "      <td>0.000000</td>\n",
       "      <td>0.000000</td>\n",
       "      <td>205</td>\n",
       "      <td>&lt;NA&gt;</td>\n",
       "      <td>&lt;NA&gt;</td>\n",
       "      <td>170</td>\n",
       "      <td>57</td>\n",
       "      <td>Female</td>\n",
       "      <td>White</td>\n",
       "      <td>41.0</td>\n",
       "      <td>1</td>\n",
       "    </tr>\n",
       "    <tr>\n",
       "      <th>3</th>\n",
       "      <td>Aali Kali</td>\n",
       "      <td>0.000000</td>\n",
       "      <td>0.854701</td>\n",
       "      <td>118</td>\n",
       "      <td>&lt;NA&gt;</td>\n",
       "      <td>&lt;NA&gt;</td>\n",
       "      <td>168</td>\n",
       "      <td>54</td>\n",
       "      <td>Female</td>\n",
       "      <td>White</td>\n",
       "      <td>23.6</td>\n",
       "      <td>0</td>\n",
       "    </tr>\n",
       "    <tr>\n",
       "      <th>4</th>\n",
       "      <td>Aaliyah Hadid</td>\n",
       "      <td>0.383142</td>\n",
       "      <td>0.769231</td>\n",
       "      <td>262</td>\n",
       "      <td>&lt;NA&gt;</td>\n",
       "      <td>&lt;NA&gt;</td>\n",
       "      <td>168</td>\n",
       "      <td>51</td>\n",
       "      <td>Female</td>\n",
       "      <td>Latin</td>\n",
       "      <td>52.2</td>\n",
       "      <td>1</td>\n",
       "    </tr>\n",
       "  </tbody>\n",
       "</table>\n",
       "</div>"
      ],
      "text/plain": [
       "            star      7d_%     14d_%  Current_Viewership   Age  \\\n",
       "0   AJ Applegate  0.416667  0.416667                 241  <NA>   \n",
       "1     AJ Estrada  0.343845  0.488104              923346    26   \n",
       "2  AKGINGERSNAPS  0.000000  0.000000                 205  <NA>   \n",
       "3      Aali Kali  0.000000  0.854701                 118  <NA>   \n",
       "4  Aaliyah Hadid  0.383142  0.769231                 262  <NA>   \n",
       "\n",
       "                 Birthplace  Height  Weight  Gender Ethnicity   Cost($)  \\\n",
       "0                      <NA>     157      54  Female     White      48.2   \n",
       "1  United States of America     170      55    <NA>      <NA>  184649.4   \n",
       "2                      <NA>     170      57  Female     White      41.0   \n",
       "3                      <NA>     168      54  Female     White      23.6   \n",
       "4                      <NA>     168      51  Female     Latin      52.2   \n",
       "\n",
       "   results  \n",
       "0        0  \n",
       "1        1  \n",
       "2        1  \n",
       "3        0  \n",
       "4        1  "
      ]
     },
     "execution_count": 63,
     "metadata": {},
     "output_type": "execute_result"
    }
   ],
   "source": [
    "test['results'] = lista\n",
    "test"
   ]
  },
  {
   "cell_type": "code",
   "execution_count": 55,
   "metadata": {},
   "outputs": [],
   "source": [
    "test = [(51220165065, 51818194775), (51818194775, 51818194775)]"
   ]
  },
  {
   "cell_type": "code",
   "execution_count": 60,
   "metadata": {},
   "outputs": [
    {
     "data": {
      "text/plain": [
       "[357639534042684100, 0]"
      ]
     },
     "execution_count": 60,
     "metadata": {},
     "output_type": "execute_result"
    }
   ],
   "source": [
    "[(i[0] - i[1])**2 for i in test]"
   ]
  },
  {
   "cell_type": "code",
   "execution_count": 64,
   "metadata": {},
   "outputs": [
    {
     "data": {
      "text/plain": [
       "0       241\n",
       "1    923346\n",
       "2       205\n",
       "3       118\n",
       "4       262\n",
       "Name: Current_Viewership, dtype: Int64"
      ]
     },
     "execution_count": 64,
     "metadata": {},
     "output_type": "execute_result"
    }
   ],
   "source": [
    "list(test['Current_Viewership'])"
   ]
  },
  {
   "cell_type": "code",
   "execution_count": 66,
   "metadata": {},
   "outputs": [
    {
     "data": {
      "text/plain": [
       "array([   241, 923346,    205,    118,    262], dtype=int64)"
      ]
     },
     "execution_count": 66,
     "metadata": {},
     "output_type": "execute_result"
    }
   ],
   "source": [
    "np.array(list(test[\"Current_Viewership\"]))"
   ]
  },
  {
   "cell_type": "code",
   "execution_count": 22,
   "metadata": {},
   "outputs": [],
   "source": [
    "import sqlite3\n",
    "import pandas as pd\n",
    "from functions import "
   ]
  },
  {
   "cell_type": "code",
   "execution_count": 48,
   "metadata": {},
   "outputs": [],
   "source": [
    "con = sqlite3.connect('database.db')\n",
    "cursor = con.cursor()\n",
    "dtypes_informations = {'Star':'text PRIMARY KEY', 'Age':'int', 'Birthplace':'int', 'Height':'int', 'Weight':'int', 'Gender':'varchar', 'Ethnicity':'varchar', 'Cost':'float'}"
   ]
  },
  {
   "cell_type": "code",
   "execution_count": 21,
   "metadata": {},
   "outputs": [],
   "source": [
    "create_info_table_query = \"\"\"CREATE TABLE IF NOT EXISTS general_information(\n",
    "    Star text PRIMARY KEY,\n",
    "    Age INTEGER,\n",
    "    Birthplace VARCHAR,\n",
    "    Height INTEGER,\n",
    "    Weight INTEGER,\n",
    "    Gender VARCHAR,\n",
    "    Ethnicity VARCHAR,\n",
    "    Cost FLOAT );\n",
    "\"\"\"\n",
    "\n",
    "cursor.execute(create_info_table_query)\n",
    "con.commit()"
   ]
  },
  {
   "cell_type": "code",
   "execution_count": 49,
   "metadata": {},
   "outputs": [
    {
     "data": {
      "text/html": [
       "<div>\n",
       "<style scoped>\n",
       "    .dataframe tbody tr th:only-of-type {\n",
       "        vertical-align: middle;\n",
       "    }\n",
       "\n",
       "    .dataframe tbody tr th {\n",
       "        vertical-align: top;\n",
       "    }\n",
       "\n",
       "    .dataframe thead th {\n",
       "        text-align: right;\n",
       "    }\n",
       "</style>\n",
       "<table border=\"1\" class=\"dataframe\">\n",
       "  <thead>\n",
       "    <tr style=\"text-align: right;\">\n",
       "      <th></th>\n",
       "      <th>Star</th>\n",
       "      <th>Age</th>\n",
       "      <th>Birthplace</th>\n",
       "      <th>Height</th>\n",
       "      <th>Weight</th>\n",
       "      <th>Gender</th>\n",
       "      <th>Ethnicity</th>\n",
       "      <th>Cost</th>\n",
       "    </tr>\n",
       "  </thead>\n",
       "  <tbody>\n",
       "    <tr>\n",
       "      <th>0</th>\n",
       "      <td>Aali Kali</td>\n",
       "      <td>NaN</td>\n",
       "      <td>NaN</td>\n",
       "      <td>168.0</td>\n",
       "      <td>54.0</td>\n",
       "      <td>Female</td>\n",
       "      <td>White</td>\n",
       "      <td>23.6</td>\n",
       "    </tr>\n",
       "    <tr>\n",
       "      <th>1</th>\n",
       "      <td>Aaliyah Hadid</td>\n",
       "      <td>NaN</td>\n",
       "      <td>NaN</td>\n",
       "      <td>168.0</td>\n",
       "      <td>51.0</td>\n",
       "      <td>Female</td>\n",
       "      <td>Latin</td>\n",
       "      <td>52.2</td>\n",
       "    </tr>\n",
       "    <tr>\n",
       "      <th>2</th>\n",
       "      <td>Aaliyah Jolie</td>\n",
       "      <td>42.0</td>\n",
       "      <td>United States of America</td>\n",
       "      <td>173.0</td>\n",
       "      <td>55.0</td>\n",
       "      <td>NaN</td>\n",
       "      <td>NaN</td>\n",
       "      <td>469026.6</td>\n",
       "    </tr>\n",
       "    <tr>\n",
       "      <th>3</th>\n",
       "      <td>Aaliyah Love</td>\n",
       "      <td>NaN</td>\n",
       "      <td>NaN</td>\n",
       "      <td>157.0</td>\n",
       "      <td>48.0</td>\n",
       "      <td>Female</td>\n",
       "      <td>White</td>\n",
       "      <td>41.4</td>\n",
       "    </tr>\n",
       "    <tr>\n",
       "      <th>4</th>\n",
       "      <td>Aaralyn Barra</td>\n",
       "      <td>38.0</td>\n",
       "      <td>Russia</td>\n",
       "      <td>163.0</td>\n",
       "      <td>50.0</td>\n",
       "      <td>NaN</td>\n",
       "      <td>NaN</td>\n",
       "      <td>961388.0</td>\n",
       "    </tr>\n",
       "  </tbody>\n",
       "</table>\n",
       "</div>"
      ],
      "text/plain": [
       "            Star   Age                Birthplace  Height  Weight  Gender  \\\n",
       "0      Aali Kali   NaN                       NaN   168.0    54.0  Female   \n",
       "1  Aaliyah Hadid   NaN                       NaN   168.0    51.0  Female   \n",
       "2  Aaliyah Jolie  42.0  United States of America   173.0    55.0     NaN   \n",
       "3   Aaliyah Love   NaN                       NaN   157.0    48.0  Female   \n",
       "4  Aaralyn Barra  38.0                    Russia   163.0    50.0     NaN   \n",
       "\n",
       "  Ethnicity      Cost  \n",
       "0     White      23.6  \n",
       "1     Latin      52.2  \n",
       "2       NaN  469026.6  \n",
       "3     White      41.4  \n",
       "4       NaN  961388.0  "
      ]
     },
     "execution_count": 49,
     "metadata": {},
     "output_type": "execute_result"
    }
   ],
   "source": [
    "df = pd.read_csv('data/information/general_information.csv',na_values=['None'],header=0)\n",
    "df.head()\n",
    "\n"
   ]
  },
  {
   "cell_type": "code",
   "execution_count": 51,
   "metadata": {},
   "outputs": [
    {
     "data": {
      "text/plain": [
       "4463"
      ]
     },
     "execution_count": 51,
     "metadata": {},
     "output_type": "execute_result"
    }
   ],
   "source": [
    "df.to_sql('general_informations', con, if_exists='replace', dtype=dtypes_informations, index=False)"
   ]
  },
  {
   "cell_type": "code",
   "execution_count": 25,
   "metadata": {},
   "outputs": [],
   "source": [
    "con.commit()"
   ]
  },
  {
   "cell_type": "code",
   "execution_count": 6,
   "metadata": {},
   "outputs": [
    {
     "data": {
      "text/plain": [
       "[0, 4]"
      ]
     },
     "execution_count": 6,
     "metadata": {},
     "output_type": "execute_result"
    }
   ],
   "source": [
    "bits = [1,0,0,0,1]\n",
    "choosed_bits = [i for i,b in enumerate(bits) if b == 1]\n",
    "choosed_bits"
   ]
  },
  {
   "cell_type": "code",
   "execution_count": 11,
   "metadata": {},
   "outputs": [
    {
     "name": "stdout",
     "output_type": "stream",
     "text": [
      "100 2\n"
     ]
    }
   ],
   "source": [
    "dic = {0:42, 1:30, 2:100}\n",
    "max_val = max(dic, key=dic.get)\n",
    "print(dic[max_val], max_val)"
   ]
  },
  {
   "cell_type": "code",
   "execution_count": null,
   "metadata": {},
   "outputs": [],
   "source": []
  }
 ],
 "metadata": {
  "kernelspec": {
   "display_name": "Python 3",
   "language": "python",
   "name": "python3"
  },
  "language_info": {
   "codemirror_mode": {
    "name": "ipython",
    "version": 3
   },
   "file_extension": ".py",
   "mimetype": "text/x-python",
   "name": "python",
   "nbconvert_exporter": "python",
   "pygments_lexer": "ipython3",
   "version": "3.10.0"
  },
  "orig_nbformat": 4
 },
 "nbformat": 4,
 "nbformat_minor": 2
}
