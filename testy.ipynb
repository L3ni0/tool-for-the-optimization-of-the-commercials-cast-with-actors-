{
 "cells": [
  {
   "cell_type": "code",
   "execution_count": 20,
   "metadata": {},
   "outputs": [],
   "source": [
    "from bs4 import BeautifulSoup\n",
    "import requests\n",
    "from http.cookiejar import MozillaCookieJar \n",
    "import re"
   ]
  },
  {
   "cell_type": "code",
   "execution_count": 21,
   "metadata": {},
   "outputs": [
    {
     "data": {
      "text/plain": [
       "<MozillaCookieJar[Cookie(version=0, name='accessAgeDisclaimerPH', value='1', port=None, port_specified=False, domain='.pornhub.com', domain_specified=True, domain_initial_dot=True, path='/', path_specified=False, secure=False, expires=1720431349, discard=False, comment=None, comment_url=None, rest={}, rfc2109=False), Cookie(version=0, name='bs', value='ahwaj7vck2n2lo7d294k75vo4d4szkcg', port=None, port_specified=False, domain='.pornhub.com', domain_specified=True, domain_initial_dot=True, path='/', path_specified=False, secure=True, expires=2007459919, discard=False, comment=None, comment_url=None, rest={}, rfc2109=False), Cookie(version=0, name='fg_0d2ec4cbd943df07ec161982a603817e', value='88994.100000', port=None, port_specified=False, domain='.pornhub.com', domain_specified=True, domain_initial_dot=True, path='/', path_specified=False, secure=True, expires=1694691914, discard=False, comment=None, comment_url=None, rest={}, rfc2109=False), Cookie(version=0, name='fg_9951ce1ac4434b4ac312a1334fa77d82', value='2107.100000', port=None, port_specified=False, domain='.pornhub.com', domain_specified=True, domain_initial_dot=True, path='/', path_specified=False, secure=True, expires=1693920350, discard=False, comment=None, comment_url=None, rest={}, rfc2109=False), Cookie(version=0, name='lang', value='en', port=None, port_specified=False, domain='.pornhub.com', domain_specified=True, domain_initial_dot=True, path='/', path_specified=False, secure=False, expires=1693922173, discard=False, comment=None, comment_url=None, rest={}, rfc2109=False), Cookie(version=0, name='ss', value='498395242384798114', port=None, port_specified=False, domain='.pornhub.com', domain_specified=True, domain_initial_dot=True, path='/', path_specified=False, secure=True, expires=1720431345, discard=False, comment=None, comment_url=None, rest={}, rfc2109=False), Cookie(version=0, name='__l', value='64DB654B-42FE722901BB7AB3-2565DBAE', port=None, port_specified=False, domain='www.pornhub.com', domain_specified=False, domain_initial_dot=False, path='/pornstar', path_specified=False, secure=True, expires=1723656845, discard=False, comment=None, comment_url=None, rest={}, rfc2109=False)]>"
      ]
     },
     "execution_count": 21,
     "metadata": {},
     "output_type": "execute_result"
    }
   ],
   "source": [
    "s = requests.Session()\n",
    "jar = MozillaCookieJar('cookies.txt')\n",
    "jar.load()\n",
    "jar"
   ]
  },
  {
   "cell_type": "code",
   "execution_count": 22,
   "metadata": {},
   "outputs": [],
   "source": [
    "r = requests.get('https://www.pornhub.com/pornstar/videos_overview?pornstar=aaliyah-jolie', cookies=jar) "
   ]
  },
  {
   "cell_type": "code",
   "execution_count": 23,
   "metadata": {},
   "outputs": [],
   "source": [
    "soup = BeautifulSoup(r.text, 'html.parser')\n"
   ]
  },
  {
   "cell_type": "code",
   "execution_count": 24,
   "metadata": {},
   "outputs": [
    {
     "data": {
      "text/plain": [
       "2333118"
      ]
     },
     "execution_count": 24,
     "metadata": {},
     "output_type": "execute_result"
    }
   ],
   "source": [
    "star_info = soup.find('div', class_='infoBox videoViews tooltipTrig')\n",
    "int(''.join(re.findall('\\d',star_info.text)))\n"
   ]
  },
  {
   "cell_type": "code",
   "execution_count": 29,
   "metadata": {},
   "outputs": [],
   "source": [
    "def get_views_count(link):\n",
    "    s = requests.Session()\n",
    "    jar = MozillaCookieJar('cookies.txt')\n",
    "    jar.load()\n",
    "    r = requests.get(link, cookies=jar) \n",
    "    soup = BeautifulSoup(r.text, 'html.parser')\n",
    "    star_info = soup.find('div', class_='infoBox videoViews tooltipTrig')\n",
    "    return int(''.join(re.findall('\\d',star_info.text)))"
   ]
  },
  {
   "cell_type": "code",
   "execution_count": 30,
   "metadata": {},
   "outputs": [
    {
     "ename": "AttributeError",
     "evalue": "'NoneType' object has no attribute 'text'",
     "output_type": "error",
     "traceback": [
      "\u001b[1;31m---------------------------------------------------------------------------\u001b[0m",
      "\u001b[1;31mAttributeError\u001b[0m                            Traceback (most recent call last)",
      "\u001b[1;32mc:\\Users\\Leniu\\Desktop\\nauka\\inżynierka\\testy.ipynb Cell 7\u001b[0m in \u001b[0;36m<cell line: 1>\u001b[1;34m()\u001b[0m\n\u001b[1;32m----> <a href='vscode-notebook-cell:/c%3A/Users/Leniu/Desktop/nauka/in%C5%BCynierka/testy.ipynb#X14sZmlsZQ%3D%3D?line=0'>1</a>\u001b[0m \u001b[39mprint\u001b[39m(get_views_count(\u001b[39m\"\u001b[39;49m\u001b[39mhttps://www.pornhub.com/pornstar/videos_overview?pornstar=aali-kali\u001b[39;49m\u001b[39m\"\u001b[39;49m))\n",
      "\u001b[1;32mc:\\Users\\Leniu\\Desktop\\nauka\\inżynierka\\testy.ipynb Cell 7\u001b[0m in \u001b[0;36mget_views_count\u001b[1;34m(link)\u001b[0m\n\u001b[0;32m      <a href='vscode-notebook-cell:/c%3A/Users/Leniu/Desktop/nauka/in%C5%BCynierka/testy.ipynb#X14sZmlsZQ%3D%3D?line=5'>6</a>\u001b[0m soup \u001b[39m=\u001b[39m BeautifulSoup(r\u001b[39m.\u001b[39mtext, \u001b[39m'\u001b[39m\u001b[39mhtml.parser\u001b[39m\u001b[39m'\u001b[39m)\n\u001b[0;32m      <a href='vscode-notebook-cell:/c%3A/Users/Leniu/Desktop/nauka/in%C5%BCynierka/testy.ipynb#X14sZmlsZQ%3D%3D?line=6'>7</a>\u001b[0m star_info \u001b[39m=\u001b[39m soup\u001b[39m.\u001b[39mfind(\u001b[39m'\u001b[39m\u001b[39mdiv\u001b[39m\u001b[39m'\u001b[39m, class_\u001b[39m=\u001b[39m\u001b[39m'\u001b[39m\u001b[39minfoBox videoViews tooltipTrig\u001b[39m\u001b[39m'\u001b[39m)\n\u001b[1;32m----> <a href='vscode-notebook-cell:/c%3A/Users/Leniu/Desktop/nauka/in%C5%BCynierka/testy.ipynb#X14sZmlsZQ%3D%3D?line=7'>8</a>\u001b[0m \u001b[39mreturn\u001b[39;00m \u001b[39mint\u001b[39m(\u001b[39m'\u001b[39m\u001b[39m'\u001b[39m\u001b[39m.\u001b[39mjoin(re\u001b[39m.\u001b[39mfindall(\u001b[39m'\u001b[39m\u001b[39m\\\u001b[39m\u001b[39md\u001b[39m\u001b[39m'\u001b[39m,star_info\u001b[39m.\u001b[39;49mtext)))\n",
      "\u001b[1;31mAttributeError\u001b[0m: 'NoneType' object has no attribute 'text'"
     ]
    }
   ],
   "source": [
    "print(get_views_count(\"https://www.pornhub.com/pornstar/videos_overview?pornstar=aali-kali\"))\n",
    "\n",
    "\n"
   ]
  },
  {
   "cell_type": "code",
   "execution_count": 27,
   "metadata": {},
   "outputs": [],
   "source": [
    "with open('stars.csv','r') as file:\n",
    "    links = []\n",
    "    for line in file:\n",
    "        links.append(line.split(',')[1])\n",
    "    links = links[1:]\n",
    "\n"
   ]
  },
  {
   "cell_type": "code",
   "execution_count": 28,
   "metadata": {},
   "outputs": [
    {
     "ename": "SyntaxError",
     "evalue": "invalid syntax (2576894402.py, line 1)",
     "output_type": "error",
     "traceback": [
      "\u001b[1;36m  Input \u001b[1;32mIn [28]\u001b[1;36m\u001b[0m\n\u001b[1;33m    for view in\u001b[0m\n\u001b[1;37m                ^\u001b[0m\n\u001b[1;31mSyntaxError\u001b[0m\u001b[1;31m:\u001b[0m invalid syntax\n"
     ]
    }
   ],
   "source": [
    "for view in \n",
    "    print(view)\n",
    "    "
   ]
  },
  {
   "cell_type": "code",
   "execution_count": null,
   "metadata": {},
   "outputs": [],
   "source": []
  }
 ],
 "metadata": {
  "kernelspec": {
   "display_name": "Python 3",
   "language": "python",
   "name": "python3"
  },
  "language_info": {
   "codemirror_mode": {
    "name": "ipython",
    "version": 3
   },
   "file_extension": ".py",
   "mimetype": "text/x-python",
   "name": "python",
   "nbconvert_exporter": "python",
   "pygments_lexer": "ipython3",
   "version": "3.10.0"
  },
  "orig_nbformat": 4
 },
 "nbformat": 4,
 "nbformat_minor": 2
}
